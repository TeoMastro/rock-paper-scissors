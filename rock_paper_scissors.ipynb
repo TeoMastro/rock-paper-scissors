{
  "nbformat": 4,
  "nbformat_minor": 0,
  "metadata": {
    "colab": {
      "provenance": [],
      "gpuType": "T4"
    },
    "kernelspec": {
      "name": "python3",
      "display_name": "Python 3"
    },
    "language_info": {
      "name": "python"
    },
    "accelerator": "GPU"
  },
  "cells": [
    {
      "cell_type": "markdown",
      "source": [
        "**Author**: *Theodoros Mastromanolis* (tmast@csd.auth.gr) (AM: 177)"
      ],
      "metadata": {
        "id": "nSwvkTPHhSjz"
      }
    },
    {
      "cell_type": "code",
      "execution_count": 77,
      "metadata": {
        "colab": {
          "base_uri": "https://localhost:8080/"
        },
        "id": "lHyuqzpthMLq",
        "outputId": "11dcc1b2-fa21-47e4-cdd6-eeb86ff53bfc"
      },
      "outputs": [
        {
          "output_type": "stream",
          "name": "stdout",
          "text": [
            "Drive already mounted at /content/gdrive; to attempt to forcibly remount, call drive.mount(\"/content/gdrive\", force_remount=True).\n"
          ]
        }
      ],
      "source": [
        "import pandas as pd\n",
        "import numpy as np\n",
        "import matplotlib.pyplot as plt\n",
        "from google.colab import drive\n",
        "drive.mount('/content/gdrive')"
      ]
    },
    {
      "cell_type": "markdown",
      "source": [
        "# Map the categories to numbers and import the dataset"
      ],
      "metadata": {
        "id": "eiExcJ-7iR4-"
      }
    },
    {
      "cell_type": "code",
      "source": [
        "import os\n",
        "from PIL import Image\n",
        "\n",
        "folders = {\n",
        "    \"rock\": \"/content/gdrive/MyDrive/Colab Notebooks/data/rock-paper-scissors-data/rock\",\n",
        "    \"scissors\": \"/content/gdrive/MyDrive/Colab Notebooks/data/rock-paper-scissors-data/scissors\",\n",
        "    \"paper\": \"/content/gdrive/MyDrive/Colab Notebooks/data/rock-paper-scissors-data/paper\"\n",
        "}\n",
        "\n",
        "category_map = {\"rock\": 0, \"scissors\": 1, \"paper\": 2}\n",
        "images = []\n",
        "labels = []\n",
        "\n",
        "for category, folder in folders.items():\n",
        "    for file in os.listdir(folder):\n",
        "        img_path = os.path.join(folder, file)\n",
        "        with Image.open(img_path) as img:\n",
        "            img = img.resize((128, 128))\n",
        "            img = np.array(img)\n",
        "            images.append(img)\n",
        "            labels.append(category_map[category])\n",
        "\n",
        "images = np.array(images)\n",
        "labels = np.array(labels)"
      ],
      "metadata": {
        "id": "CwNNUlolhvQO"
      },
      "execution_count": 78,
      "outputs": []
    },
    {
      "cell_type": "markdown",
      "source": [
        "# Split the dataset to train and test set"
      ],
      "metadata": {
        "id": "hBZG5K0uilKs"
      }
    },
    {
      "cell_type": "code",
      "source": [
        "import tensorflow as tf\n",
        "from sklearn.model_selection import train_test_split\n",
        "\n",
        "X_train, X_test, y_train, y_test = train_test_split(images, labels, test_size=0.20, stratify=labels)"
      ],
      "metadata": {
        "id": "SIIGURInirVA"
      },
      "execution_count": 79,
      "outputs": []
    },
    {
      "cell_type": "markdown",
      "source": [
        "# Train the model"
      ],
      "metadata": {
        "id": "RBqlwY1opRCS"
      }
    },
    {
      "cell_type": "code",
      "source": [
        "model = tf.keras.models.Sequential([\n",
        "    tf.keras.layers.Conv2D(32, (3, 3), activation='relu', input_shape=(128, 128, 3)),\n",
        "    tf.keras.layers.MaxPooling2D(2, 2),\n",
        "    tf.keras.layers.Conv2D(64, (3, 3), activation='relu'),\n",
        "    tf.keras.layers.MaxPooling2D(2, 2),\n",
        "    tf.keras.layers.Flatten(),\n",
        "    tf.keras.layers.Dense(128, activation='relu'),\n",
        "    tf.keras.layers.Dense(3, activation='softmax')\n",
        "])\n",
        "\n",
        "model.compile(optimizer='adam', loss='sparse_categorical_crossentropy', metrics=['accuracy'])\n",
        "\n",
        "model.fit(X_train, y_train, epochs=10, validation_data=(X_test, y_test))"
      ],
      "metadata": {
        "colab": {
          "base_uri": "https://localhost:8080/"
        },
        "id": "P1O6jrrnpSoE",
        "outputId": "b85bcb5f-e966-49ee-a8b3-327b4b993e81"
      },
      "execution_count": 80,
      "outputs": [
        {
          "output_type": "stream",
          "name": "stdout",
          "text": [
            "Epoch 1/10\n",
            "55/55 [==============================] - 3s 23ms/step - loss: 69.7369 - accuracy: 0.7109 - val_loss: 0.4082 - val_accuracy: 0.8584\n",
            "Epoch 2/10\n",
            "55/55 [==============================] - 1s 18ms/step - loss: 0.1404 - accuracy: 0.9531 - val_loss: 0.2467 - val_accuracy: 0.9110\n",
            "Epoch 3/10\n",
            "55/55 [==============================] - 1s 18ms/step - loss: 0.0299 - accuracy: 0.9914 - val_loss: 0.2004 - val_accuracy: 0.9475\n",
            "Epoch 4/10\n",
            "55/55 [==============================] - 1s 17ms/step - loss: 0.0070 - accuracy: 0.9989 - val_loss: 0.1691 - val_accuracy: 0.9589\n",
            "Epoch 5/10\n",
            "55/55 [==============================] - 1s 17ms/step - loss: 0.0016 - accuracy: 1.0000 - val_loss: 0.1822 - val_accuracy: 0.9612\n",
            "Epoch 6/10\n",
            "55/55 [==============================] - 1s 15ms/step - loss: 3.5356e-04 - accuracy: 1.0000 - val_loss: 0.2014 - val_accuracy: 0.9658\n",
            "Epoch 7/10\n",
            "55/55 [==============================] - 1s 17ms/step - loss: 2.0231e-04 - accuracy: 1.0000 - val_loss: 0.2081 - val_accuracy: 0.9635\n",
            "Epoch 8/10\n",
            "55/55 [==============================] - 1s 15ms/step - loss: 1.2631e-04 - accuracy: 1.0000 - val_loss: 0.2209 - val_accuracy: 0.9612\n",
            "Epoch 9/10\n",
            "55/55 [==============================] - 1s 15ms/step - loss: 9.6624e-05 - accuracy: 1.0000 - val_loss: 0.2296 - val_accuracy: 0.9612\n",
            "Epoch 10/10\n",
            "55/55 [==============================] - 1s 17ms/step - loss: 4.0413e-05 - accuracy: 1.0000 - val_loss: 0.2653 - val_accuracy: 0.9589\n"
          ]
        },
        {
          "output_type": "execute_result",
          "data": {
            "text/plain": [
              "<keras.src.callbacks.History at 0x7e0bbaa68280>"
            ]
          },
          "metadata": {},
          "execution_count": 80
        }
      ]
    },
    {
      "cell_type": "markdown",
      "source": [
        "# Model summary"
      ],
      "metadata": {
        "id": "Z8bs3CUFyL59"
      }
    },
    {
      "cell_type": "code",
      "source": [
        "model.summary()"
      ],
      "metadata": {
        "colab": {
          "base_uri": "https://localhost:8080/"
        },
        "id": "KXHRnol6yOHz",
        "outputId": "9648bc6b-61aa-4d22-c7b3-bcf19f6e184e"
      },
      "execution_count": 81,
      "outputs": [
        {
          "output_type": "stream",
          "name": "stdout",
          "text": [
            "Model: \"sequential_2\"\n",
            "_________________________________________________________________\n",
            " Layer (type)                Output Shape              Param #   \n",
            "=================================================================\n",
            " conv2d_4 (Conv2D)           (None, 126, 126, 32)      896       \n",
            "                                                                 \n",
            " max_pooling2d_4 (MaxPoolin  (None, 63, 63, 32)        0         \n",
            " g2D)                                                            \n",
            "                                                                 \n",
            " conv2d_5 (Conv2D)           (None, 61, 61, 64)        18496     \n",
            "                                                                 \n",
            " max_pooling2d_5 (MaxPoolin  (None, 30, 30, 64)        0         \n",
            " g2D)                                                            \n",
            "                                                                 \n",
            " flatten_2 (Flatten)         (None, 57600)             0         \n",
            "                                                                 \n",
            " dense_4 (Dense)             (None, 128)               7372928   \n",
            "                                                                 \n",
            " dense_5 (Dense)             (None, 3)                 387       \n",
            "                                                                 \n",
            "=================================================================\n",
            "Total params: 7392707 (28.20 MB)\n",
            "Trainable params: 7392707 (28.20 MB)\n",
            "Non-trainable params: 0 (0.00 Byte)\n",
            "_________________________________________________________________\n"
          ]
        }
      ]
    },
    {
      "cell_type": "markdown",
      "source": [
        "# Test the model"
      ],
      "metadata": {
        "id": "G5dQNYVGr85u"
      }
    },
    {
      "cell_type": "code",
      "source": [
        "test_loss, test_acc = model.evaluate(X_test, y_test)\n",
        "print(f\"Test set accuracy: {test_acc}\")"
      ],
      "metadata": {
        "colab": {
          "base_uri": "https://localhost:8080/"
        },
        "id": "9vWZjm1-r_Av",
        "outputId": "3caf23e6-35c4-43be-a54d-0b355caba14c"
      },
      "execution_count": 82,
      "outputs": [
        {
          "output_type": "stream",
          "name": "stdout",
          "text": [
            "14/14 [==============================] - 0s 6ms/step - loss: 0.2653 - accuracy: 0.9589\n",
            "Test set accuracy: 0.9589040875434875\n"
          ]
        }
      ]
    },
    {
      "cell_type": "markdown",
      "source": [
        "# Test a random image"
      ],
      "metadata": {
        "id": "tNeic2iXsf17"
      }
    },
    {
      "cell_type": "code",
      "source": [
        "import numpy as np\n",
        "import random\n",
        "import tensorflow as tf\n",
        "\n",
        "random_index = random.randint(0, len(X_test) - 1)\n",
        "random_image = X_test[random_index]\n",
        "random_label = y_test[random_index]\n",
        "\n",
        "random_image_processed = np.expand_dims(random_image, axis=0)\n",
        "\n",
        "predictions = model.predict(random_image_processed)\n",
        "predicted_category = np.argmax(predictions, axis=1)\n",
        "\n",
        "categories = ['rock', 'scissors', 'paper']\n",
        "print(f\"Actual category: {categories[random_label]}\")\n",
        "print(f\"Predicted category: {categories[predicted_category[0]]}\")"
      ],
      "metadata": {
        "colab": {
          "base_uri": "https://localhost:8080/"
        },
        "id": "Y0fbH2Pkshu5",
        "outputId": "adcecf35-2273-4048-9872-f80a55f96558"
      },
      "execution_count": 83,
      "outputs": [
        {
          "output_type": "stream",
          "name": "stdout",
          "text": [
            "1/1 [==============================] - 0s 62ms/step\n",
            "Actual category: scissors\n",
            "Predicted category: scissors\n"
          ]
        }
      ]
    },
    {
      "cell_type": "markdown",
      "source": [
        "# Preprocess the random image and replicate the random agent behavior"
      ],
      "metadata": {
        "id": "jXzzIt-kwIVl"
      }
    },
    {
      "cell_type": "code",
      "source": [
        "import cv2\n",
        "p1 = 0.5\n",
        "p2  = 0.5\n",
        "\n",
        "def preprocess_image(img):\n",
        "    # Vertical rotation\n",
        "    if random.random() < p1:\n",
        "        img = cv2.flip(img, 0)\n",
        "\n",
        "    # Horizontal rotation\n",
        "    if random.random() < p2:\n",
        "        img = cv2.flip(img, 1)\n",
        "\n",
        "    # Add noise\n",
        "    σ = 255 * 0.05\n",
        "    gaussian_noise = np.random.normal(0, σ, img.shape)\n",
        "    img = img + gaussian_noise\n",
        "    img = np.clip(img, 0, 255)\n",
        "\n",
        "    return img"
      ],
      "metadata": {
        "id": "5bUKeYcrwTv6"
      },
      "execution_count": 84,
      "outputs": []
    },
    {
      "cell_type": "markdown",
      "source": [
        "# Then re-test the model"
      ],
      "metadata": {
        "id": "JnbGKENhw711"
      }
    },
    {
      "cell_type": "code",
      "source": [
        "random_index = random.randint(0, len(X_test) - 1)\n",
        "random_image = X_test[random_index]\n",
        "random_label = y_test[random_index]\n",
        "\n",
        "random_image_processed = np.expand_dims(preprocess_image(random_image), axis=0)\n",
        "\n",
        "predictions = model.predict(random_image_processed)\n",
        "predicted_category = np.argmax(predictions, axis=1)\n",
        "\n",
        "categories = ['rock', 'scissors', 'paper']\n",
        "print(f\"Actual category: {categories[random_label]}\")\n",
        "print(f\"Predicted category: {categories[predicted_category[0]]}\")"
      ],
      "metadata": {
        "colab": {
          "base_uri": "https://localhost:8080/"
        },
        "id": "goH5GyYAw-e1",
        "outputId": "4da10c94-7bea-44d6-a224-0b8a330d6455"
      },
      "execution_count": 85,
      "outputs": [
        {
          "output_type": "stream",
          "name": "stdout",
          "text": [
            "1/1 [==============================] - 0s 61ms/step\n",
            "Actual category: paper\n",
            "Predicted category: paper\n"
          ]
        }
      ]
    },
    {
      "cell_type": "markdown",
      "source": [
        "# Create an environment where the agent plays 100 rounds of this game\n",
        "\n",
        "## Here we will also see how much money the agent earns"
      ],
      "metadata": {
        "id": "Zu1T5yd6zDUJ"
      }
    },
    {
      "cell_type": "code",
      "source": [
        "def choose_move(category):\n",
        "    if category == 'rock':\n",
        "      return 'paper'\n",
        "    if category == 'paper':\n",
        "      return 'scissors'\n",
        "    if category == 'scissors':\n",
        "      return 'rock'"
      ],
      "metadata": {
        "id": "qAC9FU_Mz0P_"
      },
      "execution_count": 86,
      "outputs": []
    },
    {
      "cell_type": "code",
      "source": [
        "rounds_won = 0\n",
        "for i in range(100):\n",
        "  random_index = random.randint(0, len(X_test) - 1)\n",
        "  random_image = X_test[random_index]\n",
        "  random_label = y_test[random_index]\n",
        "\n",
        "  random_image_processed = np.expand_dims(preprocess_image(random_image), axis=0)\n",
        "\n",
        "  predictions = model.predict(random_image_processed)\n",
        "  predicted_category = np.argmax(predictions, axis=1)\n",
        "\n",
        "  categories = ['rock', 'scissors', 'paper']\n",
        "  actual_category = categories[random_label]\n",
        "  predicted_category = categories[predicted_category[0]]\n",
        "\n",
        "  move = choose_move(predicted_category);\n",
        "  actual_move_that_should_be_played = choose_move(actual_category);\n",
        "\n",
        "  if move == actual_move_that_should_be_played:\n",
        "    rounds_won +=1 ;"
      ],
      "metadata": {
        "colab": {
          "base_uri": "https://localhost:8080/"
        },
        "id": "_nRWMfJKzS6W",
        "outputId": "016f795c-4740-4937-c9fe-1ac4bc2be1ca"
      },
      "execution_count": 107,
      "outputs": [
        {
          "output_type": "stream",
          "name": "stdout",
          "text": [
            "1/1 [==============================] - 0s 17ms/step\n",
            "1/1 [==============================] - 0s 17ms/step\n",
            "1/1 [==============================] - 0s 17ms/step\n",
            "1/1 [==============================] - 0s 18ms/step\n",
            "1/1 [==============================] - 0s 18ms/step\n",
            "1/1 [==============================] - 0s 17ms/step\n",
            "1/1 [==============================] - 0s 16ms/step\n",
            "1/1 [==============================] - 0s 29ms/step\n",
            "1/1 [==============================] - 0s 26ms/step\n",
            "1/1 [==============================] - 0s 81ms/step\n",
            "1/1 [==============================] - 0s 24ms/step\n",
            "1/1 [==============================] - 0s 17ms/step\n",
            "1/1 [==============================] - 0s 17ms/step\n",
            "1/1 [==============================] - 0s 19ms/step\n",
            "1/1 [==============================] - 0s 17ms/step\n",
            "1/1 [==============================] - 0s 17ms/step\n",
            "1/1 [==============================] - 0s 16ms/step\n",
            "1/1 [==============================] - 0s 17ms/step\n",
            "1/1 [==============================] - 0s 17ms/step\n",
            "1/1 [==============================] - 0s 22ms/step\n",
            "1/1 [==============================] - 0s 17ms/step\n",
            "1/1 [==============================] - 0s 19ms/step\n",
            "1/1 [==============================] - 0s 16ms/step\n",
            "1/1 [==============================] - 0s 17ms/step\n",
            "1/1 [==============================] - 0s 16ms/step\n",
            "1/1 [==============================] - 0s 16ms/step\n",
            "1/1 [==============================] - 0s 20ms/step\n",
            "1/1 [==============================] - 0s 16ms/step\n",
            "1/1 [==============================] - 0s 18ms/step\n",
            "1/1 [==============================] - 0s 17ms/step\n",
            "1/1 [==============================] - 0s 17ms/step\n",
            "1/1 [==============================] - 0s 16ms/step\n",
            "1/1 [==============================] - 0s 50ms/step\n",
            "1/1 [==============================] - 0s 29ms/step\n",
            "1/1 [==============================] - 0s 93ms/step\n",
            "1/1 [==============================] - 0s 55ms/step\n",
            "1/1 [==============================] - 0s 114ms/step\n",
            "1/1 [==============================] - 0s 19ms/step\n",
            "1/1 [==============================] - 0s 17ms/step\n",
            "1/1 [==============================] - 0s 16ms/step\n",
            "1/1 [==============================] - 0s 17ms/step\n",
            "1/1 [==============================] - 0s 17ms/step\n",
            "1/1 [==============================] - 0s 16ms/step\n",
            "1/1 [==============================] - 0s 16ms/step\n",
            "1/1 [==============================] - 0s 18ms/step\n",
            "1/1 [==============================] - 0s 26ms/step\n",
            "1/1 [==============================] - 0s 16ms/step\n",
            "1/1 [==============================] - 0s 17ms/step\n",
            "1/1 [==============================] - 0s 17ms/step\n",
            "1/1 [==============================] - 0s 17ms/step\n",
            "1/1 [==============================] - 0s 16ms/step\n",
            "1/1 [==============================] - 0s 16ms/step\n",
            "1/1 [==============================] - 0s 17ms/step\n",
            "1/1 [==============================] - 0s 16ms/step\n",
            "1/1 [==============================] - 0s 16ms/step\n",
            "1/1 [==============================] - 0s 17ms/step\n",
            "1/1 [==============================] - 0s 18ms/step\n",
            "1/1 [==============================] - 0s 20ms/step\n",
            "1/1 [==============================] - 0s 18ms/step\n",
            "1/1 [==============================] - 0s 16ms/step\n",
            "1/1 [==============================] - 0s 16ms/step\n",
            "1/1 [==============================] - 0s 17ms/step\n",
            "1/1 [==============================] - 0s 23ms/step\n",
            "1/1 [==============================] - 0s 17ms/step\n",
            "1/1 [==============================] - 0s 17ms/step\n",
            "1/1 [==============================] - 0s 18ms/step\n",
            "1/1 [==============================] - 0s 17ms/step\n",
            "1/1 [==============================] - 0s 16ms/step\n",
            "1/1 [==============================] - 0s 17ms/step\n",
            "1/1 [==============================] - 0s 17ms/step\n",
            "1/1 [==============================] - 0s 16ms/step\n",
            "1/1 [==============================] - 0s 16ms/step\n",
            "1/1 [==============================] - 0s 16ms/step\n",
            "1/1 [==============================] - 0s 18ms/step\n",
            "1/1 [==============================] - 0s 16ms/step\n",
            "1/1 [==============================] - 0s 16ms/step\n",
            "1/1 [==============================] - 0s 16ms/step\n",
            "1/1 [==============================] - 0s 16ms/step\n",
            "1/1 [==============================] - 0s 22ms/step\n",
            "1/1 [==============================] - 0s 39ms/step\n",
            "1/1 [==============================] - 0s 26ms/step\n",
            "1/1 [==============================] - 0s 32ms/step\n",
            "1/1 [==============================] - 0s 25ms/step\n",
            "1/1 [==============================] - 0s 27ms/step\n",
            "1/1 [==============================] - 0s 24ms/step\n",
            "1/1 [==============================] - 0s 24ms/step\n",
            "1/1 [==============================] - 0s 29ms/step\n",
            "1/1 [==============================] - 0s 32ms/step\n",
            "1/1 [==============================] - 0s 25ms/step\n",
            "1/1 [==============================] - 0s 34ms/step\n",
            "1/1 [==============================] - 0s 34ms/step\n",
            "1/1 [==============================] - 0s 27ms/step\n",
            "1/1 [==============================] - 0s 30ms/step\n",
            "1/1 [==============================] - 0s 25ms/step\n",
            "1/1 [==============================] - 0s 34ms/step\n",
            "1/1 [==============================] - 0s 25ms/step\n",
            "1/1 [==============================] - 0s 27ms/step\n",
            "1/1 [==============================] - 0s 25ms/step\n",
            "1/1 [==============================] - 0s 25ms/step\n",
            "1/1 [==============================] - 0s 25ms/step\n",
            "Rounds won: 64\n"
          ]
        }
      ]
    },
    {
      "cell_type": "code",
      "source": [
        "print(f\"Rounds won: {rounds_won}\")"
      ],
      "metadata": {
        "id": "dmgNQiF2ANqG",
        "outputId": "8c4555a6-e7a7-4e20-e526-69f2a34bb7fd",
        "colab": {
          "base_uri": "https://localhost:8080/"
        }
      },
      "execution_count": 116,
      "outputs": [
        {
          "output_type": "stream",
          "name": "stdout",
          "text": [
            "Rounds won: 64\n"
          ]
        }
      ]
    },
    {
      "cell_type": "markdown",
      "source": [
        "# Test internet images\n",
        "\n",
        "## Load the images\n",
        "\n"
      ],
      "metadata": {
        "id": "lhuVJcDj5vlY"
      }
    },
    {
      "cell_type": "code",
      "source": [
        "from PIL import Image\n",
        "\n",
        "image1_path = \"/content/gdrive/MyDrive/Colab Notebooks/data/rock-paper-scissors-data/internet/image1.png\"\n",
        "image2_path = \"/content/gdrive/MyDrive/Colab Notebooks/data/rock-paper-scissors-data/internet/image2.jpg\"\n",
        "image3_path = \"/content/gdrive/MyDrive/Colab Notebooks/data/rock-paper-scissors-data/internet/image3.jpg\"\n",
        "image4_path = \"/content/gdrive/MyDrive/Colab Notebooks/data/rock-paper-scissors-data/internet/image4.jpg\"\n",
        "image5_path = \"/content/gdrive/MyDrive/Colab Notebooks/data/rock-paper-scissors-data/internet/image5.jpg\"\n",
        "\n",
        "image = Image.open(image3_path)\n",
        "\n",
        "if image.mode == 'RGBA':\n",
        "        image = image.convert('RGB')\n",
        "\n",
        "image = np.array(image.resize((128, 128)))\n",
        "image = image / 255.0"
      ],
      "metadata": {
        "id": "5joH5s3W5xD9"
      },
      "execution_count": 113,
      "outputs": []
    },
    {
      "cell_type": "markdown",
      "source": [
        "# Make predictions"
      ],
      "metadata": {
        "id": "nXbwVK356Rt3"
      }
    },
    {
      "cell_type": "code",
      "source": [
        "image_batch = np.expand_dims(image, axis=0)\n",
        "predictions = model.predict(image_batch)\n",
        "\n",
        "predicted_class = np.argmax(predictions, axis=1)\n",
        "print(predicted_class) # 0 is rock, 1 is scissors, 2 is paper"
      ],
      "metadata": {
        "colab": {
          "base_uri": "https://localhost:8080/"
        },
        "id": "TWZWTwxd6UV5",
        "outputId": "10b1bc8b-0fe1-4f99-8c6f-4ef65bb2244b"
      },
      "execution_count": 114,
      "outputs": [
        {
          "output_type": "stream",
          "name": "stdout",
          "text": [
            "1/1 [==============================] - 0s 19ms/step\n",
            "[2]\n"
          ]
        }
      ]
    },
    {
      "cell_type": "markdown",
      "source": [
        "# Actual image"
      ],
      "metadata": {
        "id": "e37vwVCz8GK_"
      }
    },
    {
      "cell_type": "code",
      "source": [
        "from matplotlib import pyplot as plt\n",
        "\n",
        "plt.imshow(image)\n",
        "plt.axis('off')\n",
        "plt.show()"
      ],
      "metadata": {
        "colab": {
          "base_uri": "https://localhost:8080/",
          "height": 406
        },
        "id": "VFBTis718IG-",
        "outputId": "d62a3773-f828-452e-d94c-1bdf1f267bc3"
      },
      "execution_count": 115,
      "outputs": [
        {
          "output_type": "display_data",
          "data": {
            "text/plain": [
              "<Figure size 640x480 with 1 Axes>"
            ],
            "image/png": "[encoded data removed]"
          },
          "metadata": {}
        }
      ]
    }
  ]
}